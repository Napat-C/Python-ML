{
 "cells": [
  {
   "cell_type": "code",
   "execution_count": null,
   "metadata": {},
   "outputs": [],
   "source": [
    "!pip install face_recognition"
   ]
  },
  {
   "cell_type": "code",
   "execution_count": null,
   "metadata": {},
   "outputs": [],
   "source": [
    "import PIL.Image\n",
    "import PIL.ImageDraw\n",
    "import face_recognition\n",
    "\n",
    "# Load the jpg file into a numpy array\n",
    "image = face_recognition.load_image_file('') # insert file name and extention here\n",
    "\n",
    "# Find all facial features in all the faces in the image\n",
    "face_landmarks_list = face_recognition.face_landmarks(image)\n",
    "\n",
    "number_of_faces = len(face_landmarks_list)\n",
    "print(\"I found {} face(s) in this photograph.\".format(number_of_faces))\n",
    "\n",
    "# Load the image into a Python Image Library object so that we can draw on top of it and display it\n",
    "pil_image = PIL.Image.fromarray(image)\n",
    "\n",
    "# Create a PIL drawing object to be able to draw lines later\n",
    "draw = PIL.ImageDraw.Draw(pil_image)\n",
    "\n",
    "# Loop over each face\n",
    "for face_landmarks in face_landmarks_list:\n",
    "\n",
    "    # Loop over each facial feature (eye, nose, mouth, lips, etc)\n",
    "    for name, list_of_points in face_landmarks.items():\n",
    "\n",
    "        # Print the location of each facial feature in this image\n",
    "        print(\"The {} in this face has the following points: {}\".format(name, list_of_points))\n",
    "\n",
    "        # Let's trace out each facial feature in the image with a line!\n",
    "        draw.line(list_of_points, fill=\"red\", width=5)\n",
    "\n",
    "#pil_image.show()\n",
    "pil_image\n"
   ]
  }
 ],
 "metadata": {
  "language_info": {
   "name": "python"
  },
  "orig_nbformat": 4
 },
 "nbformat": 4,
 "nbformat_minor": 2
}
