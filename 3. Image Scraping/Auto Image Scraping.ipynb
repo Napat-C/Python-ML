{
 "cells": [
  {
   "cell_type": "code",
   "execution_count": 1,
   "metadata": {},
   "outputs": [],
   "source": [
    "from selenium import webdriver\n",
    "from webdriver_manager.chrome import ChromeDriverManager\n",
    "from selenium.webdriver.chrome.service import Service\n",
    "from bs4 import BeautifulSoup\n",
    "import urllib.request\n",
    "import time\n",
    "from fs.osfs import OSFS"
   ]
  },
  {
   "cell_type": "code",
   "execution_count": 2,
   "metadata": {},
   "outputs": [],
   "source": [
    "def downloadImg(keyword):\n",
    "    service = Service(ChromeDriverManager().install())\n",
    "    driver = webdriver.Chrome(service=service)\n",
    "    url = 'https://www.google.com/search?tbm=isch&q='\n",
    "    driver.get(url+keyword)\n",
    "    for _ in range(0,7):\n",
    "        driver.execute_script(\"window.scrollBy(0,document.body.scrollHeight)\")\n",
    "        time.sleep(2)\n",
    "\n",
    "    soup = BeautifulSoup(driver.page_source,'html')\n",
    "    img_tags = soup.find_all('img', class_ = 'rg_i')\n",
    "\n",
    "    with OSFS('./download/') as myfs:\n",
    "        if (not myfs.exists(keyword)):\n",
    "            myfs.makedir(keyword)\n",
    "\n",
    "    count = 1\n",
    "    for i in img_tags:\n",
    "        try:\n",
    "            path = 'download/' + keyword + '/' + str(count) +'.jpg'\n",
    "            urllib.request.urlretrieve(i.get('src'), path)\n",
    "            print('downloading ' + str(count), end='\\r')\n",
    "            count+=1\n",
    "        except:\n",
    "            pass\n",
    "    driver.close()"
   ]
  },
  {
   "cell_type": "code",
   "execution_count": null,
   "metadata": {},
   "outputs": [],
   "source": [
    "downloadImg('apple')"
   ]
  },
  {
   "cell_type": "code",
   "execution_count": null,
   "metadata": {},
   "outputs": [],
   "source": [
    "keywords = ['bird', 'cat', 'dog']\n",
    "for i in keywords:\n",
    "    downloadImg(i)"
   ]
  }
 ],
 "metadata": {
  "kernelspec": {
   "display_name": "Python 3",
   "language": "python",
   "name": "python3"
  },
  "language_info": {
   "codemirror_mode": {
    "name": "ipython",
    "version": 3
   },
   "file_extension": ".py",
   "mimetype": "text/x-python",
   "name": "python",
   "nbconvert_exporter": "python",
   "pygments_lexer": "ipython3",
   "version": "3.7.7"
  },
  "orig_nbformat": 4
 },
 "nbformat": 4,
 "nbformat_minor": 2
}
